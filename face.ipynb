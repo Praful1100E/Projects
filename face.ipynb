{
 "cells": [
  {
   "cell_type": "code",
   "execution_count": 1,
   "id": "86724104-e5d4-435c-9069-982d72d5d07e",
   "metadata": {},
   "outputs": [],
   "source": [
    "# import cv2\n",
    "# video_cap = cv2.VideoCapture(0)\n",
    "# while True:\n",
    "#     ret,video_data=video_cap.read()\n",
    "#     cv2.imshow(\"video_live\",video_data)\n",
    "#     if cv2.waitKey(10) == ord(\"a\"):\n",
    "#      break\n",
    "# video_cap.release()"
   ]
  },
  {
   "cell_type": "code",
   "execution_count": 2,
   "id": "44f44a86-bdb4-47b1-8374-aa00dd5cc366",
   "metadata": {},
   "outputs": [],
   "source": [
    "# import cv2\n",
    "\n",
    "# video_cap = cv2.VideoCapture(0)\n",
    "\n",
    "# while True:\n",
    "#     ret, video_data = video_cap.read()\n",
    "    \n",
    "#     if ret:  # ✅ Only proceed if frame is successfully captured\n",
    "#         cv2.imshow(\"video_live\", video_data)\n",
    "    \n",
    "#     if cv2.waitKey(10) == ord(\"a\"):\n",
    "#         break\n",
    "\n",
    "# video_cap.release()\n",
    "# cv2.destroyAllWindows()"
   ]
  },
  {
   "cell_type": "code",
   "execution_count": null,
   "id": "a621d81d-1a03-4aca-8add-5a20d8ab3861",
   "metadata": {},
   "outputs": [],
   "source": [
    "import cv2\n",
    "\n",
    "# Replace with the IP shown on your phone\n",
    "url = \"url\"\n",
    "\n",
    "# Open video stream\n",
    "video_cap = cv2.VideoCapture(\"url/video\")\n",
    "\n",
    "while True:\n",
    "    ret, video_data = video_cap.read()\n",
    "    \n",
    "    if ret:\n",
    "        cv2.imshow(\"Mobile Camera\", video_data)\n",
    "    \n",
    "    if cv2.waitKey(10) == ord(\"a\"):  # Press 'a' to exit\n",
    "        break\n",
    "video_cap.release()\n",
    "cv2.destroyAllWindows()"
   ]
  }
 ],
 "metadata": {
  "kernelspec": {
   "display_name": "Python 3 (ipykernel)",
   "language": "python",
   "name": "python3"
  },
  "language_info": {
   "codemirror_mode": {
    "name": "ipython",
    "version": 3
   },
   "file_extension": ".py",
   "mimetype": "text/x-python",
   "name": "python",
   "nbconvert_exporter": "python",
   "pygments_lexer": "ipython3",
   "version": "3.13.5"
  }
 },
 "nbformat": 4,
 "nbformat_minor": 5
}
